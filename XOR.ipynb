{
 "cells": [
  {
   "cell_type": "code",
   "execution_count": 1,
   "id": "48ff0034",
   "metadata": {},
   "outputs": [
    {
     "name": "stdout",
     "output_type": "stream",
     "text": [
      "Input: [0 0] Output: [0.] Target: [0]\n",
      "Input: [0 1] Output: [0.] Target: [1]\n",
      "Input: [1 0] Output: [1.] Target: [1]\n",
      "Input: [1 1] Output: [1.] Target: [0]\n"
     ]
    }
   ],
   "source": [
    "import numpy as np\n",
    "\n",
    "# Define the sigmoid activation function and its derivative\n",
    "def sigmoid(x):\n",
    "    return 1 / (1 + np.exp(-x))\n",
    "\n",
    "def sigmoid_derivative(x):\n",
    "    return sigmoid(x) * (1 - sigmoid(x))\n",
    "\n",
    "# Define the XOR function\n",
    "def xor(inputs):\n",
    "    return np.array([int(inputs[0] != inputs[1])])\n",
    "\n",
    "# Define the input and target data\n",
    "input_data = np.array([[0, 0], [0, 1], [1, 0], [1, 1]])\n",
    "target_data = np.array([[0], [1], [1], [0]])\n",
    "\n",
    "# Define the neural network architecture\n",
    "input_size = 2\n",
    "hidden_size = 2\n",
    "output_size = 1\n",
    "\n",
    "# Initialize the weights with random values\n",
    "hidden_weights = np.random.uniform(size=(input_size, hidden_size))\n",
    "output_weights = np.random.uniform(size=(hidden_size, output_size))\n",
    "\n",
    "# Define the learning rate and number of epochs\n",
    "learning_rate = 0.1\n",
    "epochs = 10000\n",
    "\n",
    "# Train the neural network using backpropagation\n",
    "for epoch in range(epochs):\n",
    "    # Forward propagation\n",
    "    hidden_layer = sigmoid(np.dot(input_data, hidden_weights))\n",
    "    output_layer = sigmoid(np.dot(hidden_layer, output_weights))\n",
    "   \n",
    "    # Backward propagation\n",
    "    output_error = target_data - output_layer\n",
    "    output_delta = output_error * sigmoid_derivative(output_layer)\n",
    "   \n",
    "    hidden_error = output_delta.dot(output_weights.T)\n",
    "    hidden_delta = hidden_error * sigmoid_derivative(hidden_layer)\n",
    "   \n",
    "    # Update the weights\n",
    "    output_weights += hidden_layer.T.dot(output_delta) * learning_rate\n",
    "    hidden_weights += input_data.T.dot(hidden_delta) * learning_rate\n",
    "\n",
    "# Test the neural network on new input data\n",
    "test_input = np.array([[0, 0], [0, 1], [1, 0], [1, 1]])\n",
    "for i in range(len(test_input)):\n",
    "    prediction = sigmoid(np.dot(sigmoid(np.dot(test_input[i], hidden_weights)), output_weights))\n",
    "    print(f\"Input: {test_input[i]} Output: {prediction.round()} Target: {xor(test_input[i])}\")"
   ]
  },
  {
   "cell_type": "code",
   "execution_count": null,
   "id": "e5726e21",
   "metadata": {},
   "outputs": [],
   "source": []
  }
 ],
 "metadata": {
  "kernelspec": {
   "display_name": "Python 3 (ipykernel)",
   "language": "python",
   "name": "python3"
  },
  "language_info": {
   "codemirror_mode": {
    "name": "ipython",
    "version": 3
   },
   "file_extension": ".py",
   "mimetype": "text/x-python",
   "name": "python",
   "nbconvert_exporter": "python",
   "pygments_lexer": "ipython3",
   "version": "3.10.9"
  }
 },
 "nbformat": 4,
 "nbformat_minor": 5
}
